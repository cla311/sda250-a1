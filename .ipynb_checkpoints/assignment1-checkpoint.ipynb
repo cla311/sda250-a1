{
 "cells": [
  {
   "cell_type": "markdown",
   "id": "7444b806",
   "metadata": {},
   "source": [
    "# SDA 250 - Assignment 1\n",
    "Aiden Cumming-Teicher (301467447) - Corpus 1 + 3 collection, writing the code to answer qs 4-6 <br>\n",
    "Christopher Louie (301310686) - Corpus 2 collection, writing the code to answer qs 1-3, helping write the code to answer qs 4-6"
   ]
  },
  {
   "cell_type": "code",
   "execution_count": 1,
   "id": "9616d8f0",
   "metadata": {},
   "outputs": [],
   "source": [
    "import nltk\n",
    "from nltk.corpus import PlaintextCorpusReader"
   ]
  },
  {
   "cell_type": "code",
   "execution_count": 2,
   "id": "c730f6a1",
   "metadata": {},
   "outputs": [],
   "source": [
    "def lexical_diversity(text):\n",
    "    return len(set(text)) / len(text)"
   ]
  },
  {
   "cell_type": "code",
   "execution_count": 3,
   "id": "1e76c0a4",
   "metadata": {},
   "outputs": [],
   "source": [
    "def longest_sentence(sentences):\n",
    "    longest_len = max(len(s) for s in sentences)\n",
    "    longest_sentence = [s for s in sentences if len(s) == longest_len]\n",
    "    return [longest_sentence[0], longest_len]"
   ]
  },
  {
   "cell_type": "code",
   "execution_count": 4,
   "id": "0c1b01df",
   "metadata": {},
   "outputs": [],
   "source": [
    "from nltk.collocations import BigramAssocMeasures, BigramCollocationFinder, TrigramAssocMeasures, TrigramCollocationFinder, QuadgramAssocMeasures, QuadgramCollocationFinder\n",
    "\n",
    "\n",
    "def BTQCollocations(text):\n",
    "    bigram_measures = BigramAssocMeasures()\n",
    "    bigram_finder = BigramCollocationFinder.from_words(text)\n",
    "    trigram_measures = TrigramAssocMeasures()\n",
    "    trigram_finder = TrigramCollocationFinder.from_words(text)\n",
    "    quadgram_measures = QuadgramAssocMeasures()\n",
    "    quadgram_finder = QuadgramCollocationFinder.from_words(text)\n",
    "\n",
    "    bigram_finder.apply_freq_filter(3)\n",
    "    trigram_finder.apply_freq_filter(3)\n",
    "    quadgram_finder.apply_freq_filter(3)\n",
    "\n",
    "    collocations2 = bigram_finder.nbest(bigram_measures.pmi, 5)\n",
    "    collocations3 = trigram_finder.nbest(trigram_measures.pmi, 5)\n",
    "    collocations4 = quadgram_finder.nbest(quadgram_measures.pmi, 5)\n",
    "    \n",
    "    print(f\"Bigram: {str(collocations2).strip('[]')}\")\n",
    "    print(f\"Trigram: {str(collocations3).strip('[]')}\")\n",
    "    print(f\"Quadgram: {str(collocations4).strip('[]')}\")"
   ]
  },
  {
   "cell_type": "code",
   "execution_count": 5,
   "id": "86ad7804",
   "metadata": {},
   "outputs": [],
   "source": [
    "def topVowel_words(text):\n",
    "    freqdist = nltk.FreqDist(text)\n",
    "\n",
    "    top_words = {'a': [], 'e': [], 'i': [], 'o': [], 'u': []}\n",
    "    lowercase_words = [word.lower() for word in text]\n",
    "    for word in lowercase_words:\n",
    "        if word[0].lower() == 'a':\n",
    "            top_words['a'].append(word)\n",
    "        elif word[0].lower() == 'e':\n",
    "            top_words['e'].append(word)\n",
    "        elif word[0].lower() == 'i':\n",
    "            top_words['i'].append(word)\n",
    "        elif word[0].lower() == 'o':\n",
    "            top_words['o'].append(word)\n",
    "        elif word[0].lower() == 'u':\n",
    "            top_words['u'].append(word)\n",
    "\n",
    "    for vowel in top_words:\n",
    "        top_words[vowel] = sorted(set(top_words[vowel]), key=lambda w: freqdist[w], reverse=True)[:10]\n",
    "\n",
    "    for vowel, words in top_words.items():\n",
    "        print(f\"Top 10 words starting with {vowel}: {', '.join(words)}\")\n"
   ]
  },
  {
   "cell_type": "code",
   "execution_count": 6,
   "id": "4a3e0800",
   "metadata": {},
   "outputs": [],
   "source": [
    "from nltk.stem import SnowballStemmer\n",
    "\n",
    "def stem_sentence(sentence):\n",
    "    stemmer = SnowballStemmer(\"english\")\n",
    "    stemmed_words = [stemmer.stem(word) for word in sentence]\n",
    "\n",
    "    stemmed_sentence = ' '.join(stemmed_words)\n",
    "\n",
    "    print(stemmed_sentence)"
   ]
  },
  {
   "cell_type": "code",
   "execution_count": 7,
   "id": "6d50122d-c7a1-4eb3-89db-8e8e96fce616",
   "metadata": {},
   "outputs": [],
   "source": [
    "corpus_root = r\"./\"\n",
    "a1_corpus = PlaintextCorpusReader(corpus_root, '.*', encoding = \"utf8\")\n",
    "\n",
    "pwriting_words = nltk.Text(a1_corpus.words('Writingcomp.txt'))\n",
    "pwriting_sents = nltk.Text(a1_corpus.sents('Writingcomp.txt'))\n",
    "\n",
    "obama_words = nltk.Text(a1_corpus.words('Obama_ANewBeginning.txt'))\n",
    "obama_sents = nltk.Text(a1_corpus.sents('Obama_ANewBeginning.txt'))\n",
    "\n",
    "RottenTomatoes_words = nltk.Text(a1_corpus.words('RottenTomatoesCorpus.txt'))\n",
    "RottenTomatoes_sents = nltk.Text(a1_corpus.sents('RottenTomatoesCorpus.txt'))"
   ]
  },
  {
   "cell_type": "code",
   "execution_count": 8,
   "id": "62ae5720",
   "metadata": {},
   "outputs": [
    {
     "name": "stdout",
     "output_type": "stream",
     "text": [
      "Corpus 1: Writingcomp.txt\n",
      "Source: Aiden's own writting\n",
      "\n",
      "Length (words): 6272\n",
      "\n",
      "Lexical diversity: 0.30373086734693877\n",
      "\n",
      "Longest sentence:\n",
      "Canada is not that far down the transphobic path legally, but with such illustrious quotes such as \"a minority of radical trans activists are trying to transform society in a way that curtails everyone’s freedoms [...] violent criminals who are biological men but identify as women are being incarcerated in women’s prisons\" (Maxime Bernier, 2021) from national politician and  leader of a Canadian political party, it’d be naive to assume we’re more than a few years from a position akin to our neighbours down south.\n",
      "\n",
      "Longest sentence length (includes punctuation): 101\n",
      "\n",
      "Top 5 collocations:\n",
      "Bigram: ('puberty', 'blockers'), ('et', 'al'), ('hormone', 'replacement'), ('those', 'assigned'), ('al', '.,')\n",
      "Trigram: ('help', 'you', 'today'), ('et', 'al', '.,'), ('you', 'today', '?”'), ('can', 'I', 'help'), ('I', 'help', 'you')\n",
      "Quadgram: ('help', 'you', 'today', '?”'), ('I', 'help', 'you', 'today'), ('How', 'can', 'I', 'help'), ('can', 'I', 'help', 'you'), ('women', '’', 's', 'sports')\n",
      "\n",
      "Top 10 words starting with a: and, a, as, are, at, all, an, about, around, against\n",
      "Top 10 words starting with e: existence, eyes, even, et, every, each, everything, exactly, effects, explored\n",
      "Top 10 words starting with i: in, it, is, into, individuals, its, if, itself, individual, immediately\n",
      "Top 10 words starting with o: of, on, or, out, only, one, other, order, once, over\n",
      "Top 10 words starting with u: up, under, underground, unlike, upon, understand, usually, understanding, us, until\n",
      "\n",
      "Stemmed version of the longest sentence:\n",
      "canada is not that far down the transphob path legal , but with such illustri quot such as “ a minor of radic tran activist are tri to transform societi in a way that curtail everyon ’ s freedom [...] violent crimin who are biolog men but identifi as women are be incarcer in women ’ s prison ” ( maxim bernier , 2021 ) from nation politician and leader of a canadian polit parti , it ’ d be naiv to assum we ’ re more than a few year from a posit akin to our neighbour down south .\n"
     ]
    }
   ],
   "source": [
    "print(\"Corpus 1: Writingcomp.txt\")\n",
    "print(f\"Source: Aiden's own writting\\n\")\n",
    "\n",
    "print(f\"Length (words): {len(pwriting_words)}\\n\")\n",
    "\n",
    "print(f\"Lexical diversity: {lexical_diversity(pwriting_words)}\\n\")\n",
    "\n",
    "longest_sent1 = longest_sentence(pwriting_sents)\n",
    "print(\"Longest sentence:\")\n",
    "# print(longest_sent1[0])\n",
    "print(f'Canada is not that far down the transphobic path legally, but with such illustrious quotes such as \"a minority of radical trans activists are trying to transform society in a way that curtails everyone’s freedoms [...] violent criminals who are biological men but identify as women are being incarcerated in women’s prisons\" (Maxime Bernier, 2021) from national politician and  leader of a Canadian political party, it’d be naive to assume we’re more than a few years from a position akin to our neighbours down south.\\n')\n",
    "print(f\"Longest sentence length (includes punctuation): {longest_sent1[1]}\\n\")\n",
    "\n",
    "print(\"Top 5 collocations:\")\n",
    "BTQCollocations(pwriting_words)\n",
    "print()\n",
    "\n",
    "topVowel_words(pwriting_words)\n",
    "print()\n",
    "\n",
    "print(\"Stemmed version of the longest sentence:\")\n",
    "stem_sentence(longest_sent1[0])"
   ]
  },
  {
   "cell_type": "code",
   "execution_count": 9,
   "id": "c9eb47a9-206b-4463-a85c-b842151c6f26",
   "metadata": {},
   "outputs": [
    {
     "name": "stdout",
     "output_type": "stream",
     "text": [
      "Corpus 2: Obama_ANewBeginning.txt\n",
      "Source: https://www.americanrhetoric.com/speeches/barackobama/barackobamacairouniversity.htm\n",
      "Accessed February 14, 2023\n",
      "\n",
      "Length (words): 6944\n",
      "\n",
      "Lexical diversity: 0.22379032258064516\n",
      "\n",
      "Longest sentence:\n",
      "All of us have a responsibility to work for the day when the mothers of Israelis and Palestinians can see their children grow up without fear; when the Holy Land of the three great faiths is the place of peace that God intended it to be; when Jerusalem is a secure and lasting home for Jews and Christians and Muslims, and a place for all of the children of Abraham to mingle peacefully together as in the story of Isra -- as in the story of Isra, when Moses, Jesus, and Mohammed, peace be upon them, joined in prayer.\n",
      "\n",
      "Longest sentence sength (includes punctuation): 108\n",
      "\n",
      "Top 5 collocations:\n",
      "Bigram: ('move', 'forward'), ('Qur', '’'), ('Holy', 'Qur'), ('human', 'beings'), ('nuclear', 'weapons')\n",
      "Trigram: ('Holy', 'Qur', '’'), ('Qur', '’', 'an'), ('-', 'majority', 'countries'), ('Muslim', '-', 'majority'), ('isn', \"'\", 't')\n",
      "Quadgram: ('Holy', 'Qur', '’', 'an'), ('tells', 'us', ':', '\"'), ('Muslim', '-', 'majority', 'countries'), ('there', 'be', 'no', 'doubt'), ('let', 'there', 'be', 'no')\n",
      "\n",
      "Top 10 words starting with a: and, a, are, as, all, an, also, at, about, around\n",
      "Top 10 words starting with e: extremists, every, each, end, elected, equal, education, effort, equality, economic\n",
      "Top 10 words starting with i: in, is, it, its, if, issue, interest, isn, important, interests\n",
      "Top 10 words starting with o: of, our, on, one, or, only, own, other, over, out\n",
      "Top 10 words starting with u: us, upon, up, use, understand, unto, used, ultimately, under, using\n",
      "\n",
      "Stemmed version of the longest sentence:\n",
      "all of us have a respons to work for the day when the mother of isra and palestinian can see their children grow up without fear ; when the holi land of the three great faith is the place of peac that god intend it to be ; when jerusalem is a secur and last home for jew and christian and muslim , and a place for all of the children of abraham to mingl peac togeth as in the stori of isra -- as in the stori of isra , when mose , jesus , and moham , peac be upon them , join in prayer .\n"
     ]
    }
   ],
   "source": [
    "print(\"Corpus 2: Obama_ANewBeginning.txt\")\n",
    "print(\"Source: https://www.americanrhetoric.com/speeches/barackobama/barackobamacairouniversity.htm\")\n",
    "print(f\"Accessed February 14, 2023\\n\")\n",
    "\n",
    "print(f\"Length (words): {len(obama_words)}\\n\")\n",
    "\n",
    "print(f\"Lexical diversity: {lexical_diversity(obama_words)}\\n\")\n",
    "\n",
    "longest_sent2 = longest_sentence(obama_sents)\n",
    "print(\"Longest sentence:\")\n",
    "# print(longest_sent2[0])\n",
    "print(f'All of us have a responsibility to work for the day when the mothers of Israelis and Palestinians can see their children grow up without fear; when the Holy Land of the three great faiths is the place of peace that God intended it to be; when Jerusalem is a secure and lasting home for Jews and Christians and Muslims, and a place for all of the children of Abraham to mingle peacefully together as in the story of Isra -- as in the story of Isra, when Moses, Jesus, and Mohammed, peace be upon them, joined in prayer.\\n')\n",
    "print(f\"Longest sentence sength (includes punctuation): {longest_sent2[1]}\\n\")\n",
    "\n",
    "print(\"Top 5 collocations:\")\n",
    "BTQCollocations(obama_words)\n",
    "print()\n",
    "\n",
    "topVowel_words(obama_words)\n",
    "print()\n",
    "\n",
    "print(\"Stemmed version of the longest sentence:\")\n",
    "stem_sentence(longest_sent2[0])"
   ]
  },
  {
   "cell_type": "code",
   "execution_count": 10,
   "id": "66baafee-9571-459f-8f8b-47f912ac9d5d",
   "metadata": {},
   "outputs": [
    {
     "name": "stdout",
     "output_type": "stream",
     "text": [
      "Corpus 3: RottenTomatoesCorpus.txt\n",
      "Source: https://editorial.rottentomatoes.com/guide/2022-horror-movies-ranked/\n",
      "Accessed February 14, 2023\n",
      "\n",
      "Length (words): 7492\n",
      "\n",
      "Lexical diversity: 0.36158569140416447\n",
      "\n",
      "Longest sentence (not really a sentence but thats what nltk picked up):\n",
      "Synopsis: V/H/S/99 harkens back to the final punk rock analog days of VHS, while taking one giant leap forward into the... [More]\n",
      "Starring: Kim Abunuwara, Duncan Anderson, Kyle Bales, Verona Blue\n",
      "Directed By: Flying Lotus, Maggie Levin, Tyler MacIntyre, Johannes Roberts\n",
      "\n",
      "Longest sentence sength (includes punctuation): 108\n",
      "\n",
      "Top 5 collocations:\n",
      "Bigram: ('Aaron', 'Moorhead'), ('Elsie', 'Fisher'), ('Neil', 'LaBute'), ('Sandra', 'Oh'), ('leading', 'role')\n",
      "Trigram: ('V', '/', 'H'), ('H', '/', 'S'), ('S', '/', '99'), ('/', 'H', '/'), ('thought', '-', 'provoking')\n",
      "Quadgram: ('V', '/', 'H', '/'), ('/', 'H', '/', 'S'), ('/', 'S', '/', '99'), ('H', '/', 'S', '/'), ('isn', \"'\", 't', 'quite')\n",
      "\n",
      "Top 10 words starting with a: a, and, an, as, at, after, are, age, another, about\n",
      "Top 10 words starting with e: enough, even, effective, ever, exorcist, evening, entry, enthusiasts, exceeds, experiences\n",
      "Top 10 words starting with i: in, is, its, it, into, isn, intriguing, impressively, innocent, if\n",
      "Top 10 words starting with o: of, on, or, one, old, original, out, own, offers, once\n",
      "Top 10 words starting with u: up, unsettling, underworld, until, under, unrelentingly, uncovers, unpleasant, ups, undergoes\n",
      "\n",
      "Stemmed version of the longest sentence:\n",
      "synopsi : v / h / s / 99 harken back to the final punk rock analog day of vhs , while take one giant leap forward into the ... [ more ] star : kim abunuwara , duncan anderson , kyle bale , verona blue direct by : fli lotus , maggi levin , tyler macintyr , johann robert\n"
     ]
    }
   ],
   "source": [
    "print(\"Corpus 3: RottenTomatoesCorpus.txt\")\n",
    "print(\"Source: https://editorial.rottentomatoes.com/guide/2022-horror-movies-ranked/\")\n",
    "print(f\"Accessed February 14, 2023\\n\")\n",
    "\n",
    "print(f\"Length (words): {len(RottenTomatoes_words)}\\n\")\n",
    "\n",
    "print(f\"Lexical diversity: {lexical_diversity(RottenTomatoes_words)}\\n\")\n",
    "\n",
    "longest_sent3 = longest_sentence(RottenTomatoes_sents)\n",
    "print(\"Longest sentence (not really a sentence but this what nltk picked up):\")\n",
    "# print(longest_sent3[0])\n",
    "print(\"Synopsis: V/H/S/99 harkens back to the final punk rock analog days of VHS, while taking one giant leap forward into the... [More]\")\n",
    "print(\"Starring: Kim Abunuwara, Duncan Anderson, Kyle Bales, Verona Blue\")\n",
    "print(f\"Directed By: Flying Lotus, Maggie Levin, Tyler MacIntyre, Johannes Roberts\\n\")\n",
    "print(f\"Longest sentence sength (includes punctuation): {longest_sent2[1]}\\n\")\n",
    "\n",
    "print(\"Top 5 collocations:\")\n",
    "BTQCollocations(RottenTomatoes_words)\n",
    "print()\n",
    "\n",
    "topVowel_words(RottenTomatoes_words)\n",
    "print()\n",
    "\n",
    "print(\"Stemmed version of the longest sentence:\")\n",
    "stem_sentence(longest_sent3[0])"
   ]
  },
  {
   "cell_type": "code",
   "execution_count": null,
   "id": "1c1bbb74-1622-40b0-9d6c-aa231348b2f0",
   "metadata": {},
   "outputs": [],
   "source": []
  }
 ],
 "metadata": {
  "kernelspec": {
   "display_name": "Python 3 (ipykernel)",
   "language": "python",
   "name": "python3"
  },
  "language_info": {
   "codemirror_mode": {
    "name": "ipython",
    "version": 3
   },
   "file_extension": ".py",
   "mimetype": "text/x-python",
   "name": "python",
   "nbconvert_exporter": "python",
   "pygments_lexer": "ipython3",
   "version": "3.11.1"
  }
 },
 "nbformat": 4,
 "nbformat_minor": 5
}
