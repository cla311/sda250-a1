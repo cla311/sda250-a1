{
 "cells": [
  {
   "cell_type": "markdown",
   "id": "7444b806",
   "metadata": {},
   "source": [
    "# Aiden Cumming-Teicher (301467447) - Corpus collection, writing of code to answer qs 4-6"
   ]
  },
  {
   "cell_type": "code",
   "execution_count": 1,
   "id": "9616d8f0",
   "metadata": {},
   "outputs": [],
   "source": [
    "import nltk\n",
    "from nltk.corpus import PlaintextCorpusReader"
   ]
  },
  {
   "cell_type": "code",
   "execution_count": 2,
   "id": "c730f6a1",
   "metadata": {},
   "outputs": [],
   "source": [
    "def lexical_diversity(text):\n",
    "    return len(set(text)) / len(text)"
   ]
  },
  {
   "cell_type": "code",
   "execution_count": 3,
   "id": "1e76c0a4",
   "metadata": {},
   "outputs": [],
   "source": [
    "def longest_sentence(sentences):\n",
    "    longest_len = max(len(s) for s in sentences)\n",
    "    longest_sentence = [s for s in sentences if len(s) == longest_len]\n",
    "    print(longest_len)\n",
    "    print(longest_sentence)\n",
    "    return longest_sentence[0]"
   ]
  },
  {
   "cell_type": "code",
   "execution_count": 4,
   "id": "baa28dd3",
   "metadata": {},
   "outputs": [],
   "source": [
    "corpus_root = r\"C:\\Users\\aiden\\Desktop\"\n",
    "pwritingcorpus = PlaintextCorpusReader(corpus_root, '.*', encoding = \"utf8\")\n",
    "\n",
    "pwriting_words = nltk.Text(pwritingcorpus.words('Writingcomp.txt'))\n",
    "pwriting_sents = nltk.Text(pwritingcorpus.sents('Writingcomp.txt'))"
   ]
  },
  {
   "cell_type": "code",
   "execution_count": 5,
   "id": "0c1b01df",
   "metadata": {},
   "outputs": [],
   "source": [
    "from nltk.collocations import BigramAssocMeasures, BigramCollocationFinder, TrigramAssocMeasures, TrigramCollocationFinder, QuadgramAssocMeasures, QuadgramCollocationFinder\n",
    "\n",
    "\n",
    "def BTQCollocations(text):\n",
    "    bigram_measures = BigramAssocMeasures()\n",
    "    bigram_finder = BigramCollocationFinder.from_words(text)\n",
    "    trigram_measures = TrigramAssocMeasures()\n",
    "    trigram_finder = TrigramCollocationFinder.from_words(text)\n",
    "    quadgram_measures = QuadgramAssocMeasures()\n",
    "    quadgram_finder = QuadgramCollocationFinder.from_words(text)\n",
    "\n",
    "    bigram_finder.apply_freq_filter(3)\n",
    "    trigram_finder.apply_freq_filter(3)\n",
    "    quadgram_finder.apply_freq_filter(3)\n",
    "\n",
    "    collocations2 = bigram_finder.nbest(bigram_measures.pmi, 5)\n",
    "    collocations3 = trigram_finder.nbest(trigram_measures.pmi, 5)\n",
    "    collocations4 = quadgram_finder.nbest(quadgram_measures.pmi, 5)\n",
    "\n",
    "    print(collocations2)\n",
    "    print(collocations3)\n",
    "    print(collocations4)"
   ]
  },
  {
   "cell_type": "code",
   "execution_count": 6,
   "id": "86ad7804",
   "metadata": {},
   "outputs": [],
   "source": [
    "def topvowel_words(text):\n",
    "    freqdist = nltk.FreqDist(text)\n",
    "\n",
    "    top_words = {'a': [], 'e': [], 'i': [], 'o': [], 'u': []}\n",
    "    lowercase_words = [word.lower() for word in text]\n",
    "    for word in lowercase_words:\n",
    "        if word[0].lower() == 'a':\n",
    "            top_words['a'].append(word)\n",
    "        elif word[0].lower() == 'e':\n",
    "            top_words['e'].append(word)\n",
    "        elif word[0].lower() == 'i':\n",
    "            top_words['i'].append(word)\n",
    "        elif word[0].lower() == 'o':\n",
    "            top_words['o'].append(word)\n",
    "        elif word[0].lower() == 'u':\n",
    "            top_words['u'].append(word)\n",
    "\n",
    "    for vowel in top_words:\n",
    "        top_words[vowel] = sorted(set(top_words[vowel]), key=lambda w: freqdist[w], reverse=True)[:10]\n",
    "\n",
    "    for vowel, words in top_words.items():\n",
    "        print(f'Top 10 words starting with {vowel}: {\", \".join(words)}')\n"
   ]
  },
  {
   "cell_type": "code",
   "execution_count": 7,
   "id": "4a3e0800",
   "metadata": {},
   "outputs": [],
   "source": [
    "from nltk.stem import SnowballStemmer\n",
    "\n",
    "def stemsent(longsent):\n",
    "    stemmer = SnowballStemmer('english')\n",
    "    stemmed_words = [stemmer.stem(word) for word in longsent]\n",
    "\n",
    "    stemmed_sentence = ' '.join(stemmed_words)\n",
    "\n",
    "    print(stemmed_sentence)"
   ]
  },
  {
   "cell_type": "code",
   "execution_count": 8,
   "id": "62ae5720",
   "metadata": {},
   "outputs": [
    {
     "name": "stdout",
     "output_type": "stream",
     "text": [
      "The length - in words\n",
      "6272\n",
      "the lexical diversity\n",
      "0.30373086734693877\n",
      "The longest sentence\n",
      "101\n",
      "[['Canada', 'is', 'not', 'that', 'far', 'down', 'the', 'transphobic', 'path', 'legally', ',', 'but', 'with', 'such', 'illustrious', 'quotes', 'such', 'as', '“', 'a', 'minority', 'of', 'radical', 'trans', 'activists', 'are', 'trying', 'to', 'transform', 'society', 'in', 'a', 'way', 'that', 'curtails', 'everyone', '’', 's', 'freedoms', '[...]', 'violent', 'criminals', 'who', 'are', 'biological', 'men', 'but', 'identify', 'as', 'women', 'are', 'being', 'incarcerated', 'in', 'women', '’', 's', 'prisons', '”', '(', 'Maxime', 'Bernier', ',', '2021', ')', 'from', 'national', 'politician', 'and', 'leader', 'of', 'a', 'Canadian', 'political', 'party', ',', 'it', '’', 'd', 'be', 'naive', 'to', 'assume', 'we', '’', 're', 'more', 'than', 'a', 'few', 'years', 'from', 'a', 'position', 'akin', 'to', 'our', 'neighbours', 'down', 'south', '.']]\n",
      "The top 5 collocations\n",
      "[('puberty', 'blockers'), ('et', 'al'), ('hormone', 'replacement'), ('those', 'assigned'), ('al', '.,')]\n",
      "[('help', 'you', 'today'), ('et', 'al', '.,'), ('you', 'today', '?”'), ('can', 'I', 'help'), ('I', 'help', 'you')]\n",
      "[('help', 'you', 'today', '?”'), ('I', 'help', 'you', 'today'), ('How', 'can', 'I', 'help'), ('can', 'I', 'help', 'you'), ('women', '’', 's', 'sports')]\n",
      "The top ten words that start with each of the vowels\n",
      "Top 10 words starting with a: and, a, as, are, at, all, an, about, around, against\n",
      "Top 10 words starting with e: existence, eyes, even, et, each, every, exactly, effects, everything, explored\n",
      "Top 10 words starting with i: in, it, is, into, individuals, if, its, individual, itself, immediately\n",
      "Top 10 words starting with o: of, on, only, out, or, one, other, order, over, once\n",
      "Top 10 words starting with u: up, under, underground, unlike, upon, usually, us, unwilling, understanding, understood\n",
      "A stemmed version of the longest sentence\n",
      "canada is not that far down the transphob path legal , but with such illustri quot such as “ a minor of radic tran activist are tri to transform societi in a way that curtail everyon ’ s freedom [...] violent crimin who are biolog men but identifi as women are be incarcer in women ’ s prison ” ( maxim bernier , 2021 ) from nation politician and leader of a canadian polit parti , it ’ d be naiv to assum we ’ re more than a few year from a posit akin to our neighbour down south .\n"
     ]
    }
   ],
   "source": [
    "print(\"The length - in words\")\n",
    "print(len(pwriting_words))\n",
    "\n",
    "print(\"the lexical diversity\")\n",
    "print(lexical_diversity(pwriting_words))\n",
    "\n",
    "print(\"The longest sentence\")\n",
    "longsent = longest_sentence(pwriting_sents)\n",
    "\n",
    "print(\"The top 5 collocations\")\n",
    "BTQCollocations(pwriting_words)\n",
    "\n",
    "print(\"The top ten words that start with each of the vowels\")\n",
    "topvowel_words(pwriting_words)\n",
    "\n",
    "print(\"A stemmed version of the longest sentence\")\n",
    "stemsent(longsent)"
   ]
  }
 ],
 "metadata": {
  "kernelspec": {
   "display_name": "Python 3 (ipykernel)",
   "language": "python",
   "name": "python3"
  },
  "language_info": {
   "codemirror_mode": {
    "name": "ipython",
    "version": 3
   },
   "file_extension": ".py",
   "mimetype": "text/x-python",
   "name": "python",
   "nbconvert_exporter": "python",
   "pygments_lexer": "ipython3",
   "version": "3.9.13"
  }
 },
 "nbformat": 4,
 "nbformat_minor": 5
}
